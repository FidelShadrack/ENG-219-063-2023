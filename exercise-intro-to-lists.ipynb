{
 "cells": [
  {
   "cell_type": "markdown",
   "id": "7d7697e3",
   "metadata": {
    "papermill": {
     "duration": 0.005934,
     "end_time": "2025-03-04T11:58:55.716746",
     "exception": false,
     "start_time": "2025-03-04T11:58:55.710812",
     "status": "completed"
    },
    "tags": []
   },
   "source": [
    "**This notebook is an exercise in the [Intro to Programming](https://www.kaggle.com/learn/intro-to-programming) course.  You can reference the tutorial at [this link](https://www.kaggle.com/alexisbcook/intro-to-lists).**\n",
    "\n",
    "---\n"
   ]
  },
  {
   "cell_type": "markdown",
   "id": "8fac483a",
   "metadata": {
    "papermill": {
     "duration": 0.004886,
     "end_time": "2025-03-04T11:58:55.726996",
     "exception": false,
     "start_time": "2025-03-04T11:58:55.722110",
     "status": "completed"
    },
    "tags": []
   },
   "source": [
    "In the tutorial, you learned how to define and modify Python lists.  In this exercise, you will use your new knowledge to solve several problems.\n",
    "\n",
    "# Set up the notebook\n",
    "\n",
    "Run the next code cell without changes to set up the notebook."
   ]
  },
  {
   "cell_type": "code",
   "execution_count": 1,
   "id": "d6d09871",
   "metadata": {
    "execution": {
     "iopub.execute_input": "2025-03-04T11:58:55.738673Z",
     "iopub.status.busy": "2025-03-04T11:58:55.738310Z",
     "iopub.status.idle": "2025-03-04T11:58:56.820345Z",
     "shell.execute_reply": "2025-03-04T11:58:56.819220Z"
    },
    "papermill": {
     "duration": 1.090235,
     "end_time": "2025-03-04T11:58:56.822379",
     "exception": false,
     "start_time": "2025-03-04T11:58:55.732144",
     "status": "completed"
    },
    "tags": []
   },
   "outputs": [
    {
     "name": "stdout",
     "output_type": "stream",
     "text": [
      "Setup complete.\n"
     ]
    }
   ],
   "source": [
    "from learntools.core import binder\n",
    "binder.bind(globals())\n",
    "from learntools.intro_to_programming.ex5 import *\n",
    "print('Setup complete.')"
   ]
  },
  {
   "cell_type": "markdown",
   "id": "a094b03f",
   "metadata": {
    "papermill": {
     "duration": 0.004937,
     "end_time": "2025-03-04T11:58:56.833252",
     "exception": false,
     "start_time": "2025-03-04T11:58:56.828315",
     "status": "completed"
    },
    "tags": []
   },
   "source": [
    "# Question 1\n",
    "\n",
    "You own a restaurant with five food dishes, organized in the Python list `menu` below.  One day, you decide to:\n",
    "- remove bean soup (`'bean soup'`) from the menu, and\n",
    "- add roasted beet salad (`'roasted beet salad'`) to the menu.\n",
    "\n",
    "Implement this change to the list below.  While completing this task, \n",
    "- do not change the line that creates the `menu` list.  \n",
    "- your answer should use `.remove()` and `.append()`.  "
   ]
  },
  {
   "cell_type": "code",
   "execution_count": 2,
   "id": "564b65f6",
   "metadata": {
    "execution": {
     "iopub.execute_input": "2025-03-04T11:58:56.845213Z",
     "iopub.status.busy": "2025-03-04T11:58:56.844675Z",
     "iopub.status.idle": "2025-03-04T11:58:56.854845Z",
     "shell.execute_reply": "2025-03-04T11:58:56.853807Z"
    },
    "papermill": {
     "duration": 0.018346,
     "end_time": "2025-03-04T11:58:56.856778",
     "exception": false,
     "start_time": "2025-03-04T11:58:56.838432",
     "status": "completed"
    },
    "tags": []
   },
   "outputs": [
    {
     "name": "stdout",
     "output_type": "stream",
     "text": [
      "['stewed meat with onions', 'risotto with trout and shrimp', 'fish soup with cream and onion', 'gyro', 'roasted beet salad']\n"
     ]
    },
    {
     "data": {
      "application/javascript": [
       "parent.postMessage({\"jupyterEvent\": \"custom.exercise_interaction\", \"data\": {\"outcomeType\": 1, \"valueTowardsCompletion\": 0.2, \"interactionType\": 1, \"questionType\": 2, \"questionId\": \"1_FoodMenu\", \"learnToolsVersion\": \"0.3.4\", \"failureMessage\": \"\", \"exceptionClass\": \"\", \"trace\": \"\"}}, \"*\")"
      ],
      "text/plain": [
       "<IPython.core.display.Javascript object>"
      ]
     },
     "metadata": {},
     "output_type": "display_data"
    },
    {
     "data": {
      "text/markdown": [
       "<span style=\"color:#33cc33\">Correct</span>"
      ],
      "text/plain": [
       "Correct"
      ]
     },
     "metadata": {},
     "output_type": "display_data"
    }
   ],
   "source": [
    "# Do not change: Initial menu for your restaurant\n",
    "menu = ['stewed meat with onions', 'bean soup', 'risotto with trout and shrimp',\n",
    "       'fish soup with cream and onion', 'gyro']\n",
    "\n",
    "# TODO: remove 'bean soup', and add 'roasted beet salad' to the end of the menu\n",
    "menu.remove('bean soup')\n",
    "menu.append('roasted beet salad')\n",
    "print (menu)\n",
    "\n",
    "# Do not change: Check your answer\n",
    "q1.check()"
   ]
  },
  {
   "cell_type": "code",
   "execution_count": 3,
   "id": "c0b193b8",
   "metadata": {
    "execution": {
     "iopub.execute_input": "2025-03-04T11:58:56.868903Z",
     "iopub.status.busy": "2025-03-04T11:58:56.868566Z",
     "iopub.status.idle": "2025-03-04T11:58:56.872408Z",
     "shell.execute_reply": "2025-03-04T11:58:56.871211Z"
    },
    "papermill": {
     "duration": 0.011918,
     "end_time": "2025-03-04T11:58:56.874282",
     "exception": false,
     "start_time": "2025-03-04T11:58:56.862364",
     "status": "completed"
    },
    "tags": []
   },
   "outputs": [],
   "source": [
    "# Uncomment to see a hint\n",
    "#q1.hint()\n",
    "\n",
    "# Uncomment to see the solution\n",
    "#q1.solution()"
   ]
  },
  {
   "cell_type": "markdown",
   "id": "e52fcf33",
   "metadata": {
    "papermill": {
     "duration": 0.00522,
     "end_time": "2025-03-04T11:58:56.885212",
     "exception": false,
     "start_time": "2025-03-04T11:58:56.879992",
     "status": "completed"
    },
    "tags": []
   },
   "source": [
    "# Question 2\n",
    "\n",
    "The list `num_customers` contains the number of customers who came into your restaurant every day over the last month (which lasted thirty days).  Fill in values for each of the following:\n",
    "- `avg_first_seven` - average number of customers who visited in the first seven days\n",
    "- `avg_last_seven` - average number of customers who visited in the last seven days\n",
    "- `max_month` - number of customers on the day that got the most customers in the last month\n",
    "- `min_month` - number of customers on the day that got the least customers in the last month\n",
    "\n",
    "Answer this question by writing code.  For instance, if you have to find the minimum value in a list, use `min()` instead of scanning for the smallest value and directly filling in a number."
   ]
  },
  {
   "cell_type": "code",
   "execution_count": 4,
   "id": "796994e7",
   "metadata": {
    "execution": {
     "iopub.execute_input": "2025-03-04T11:58:56.897780Z",
     "iopub.status.busy": "2025-03-04T11:58:56.897438Z",
     "iopub.status.idle": "2025-03-04T11:58:56.906493Z",
     "shell.execute_reply": "2025-03-04T11:58:56.905356Z"
    },
    "papermill": {
     "duration": 0.017601,
     "end_time": "2025-03-04T11:58:56.908223",
     "exception": false,
     "start_time": "2025-03-04T11:58:56.890622",
     "status": "completed"
    },
    "tags": []
   },
   "outputs": [
    {
     "data": {
      "application/javascript": [
       "parent.postMessage({\"jupyterEvent\": \"custom.exercise_interaction\", \"data\": {\"outcomeType\": 1, \"valueTowardsCompletion\": 0.2, \"interactionType\": 1, \"questionType\": 1, \"questionId\": \"2_NumCustomers\", \"learnToolsVersion\": \"0.3.4\", \"failureMessage\": \"\", \"exceptionClass\": \"\", \"trace\": \"\"}}, \"*\")"
      ],
      "text/plain": [
       "<IPython.core.display.Javascript object>"
      ]
     },
     "metadata": {},
     "output_type": "display_data"
    },
    {
     "data": {
      "text/markdown": [
       "<span style=\"color:#33cc33\">Correct</span>"
      ],
      "text/plain": [
       "Correct"
      ]
     },
     "metadata": {},
     "output_type": "display_data"
    }
   ],
   "source": [
    "# Do not change: Number of customers each day for the last month\n",
    "num_customers = [137, 147, 135, 128, 170, 174, 165, 146, 126, 159,\n",
    "                 141, 148, 132, 147, 168, 153, 170, 161, 148, 152,\n",
    "                 141, 151, 131, 149, 164, 163, 143, 143, 166, 171]\n",
    "\n",
    "# TODO: Fill in values for the variables below\n",
    "avg_first_seven = sum(num_customers[:7])/7\n",
    "avg_last_seven = sum(num_customers[-7:])/7\n",
    "max_month = max(num_customers)\n",
    "min_month = min(num_customers)\n",
    "\n",
    "# Do not change: Check your answer\n",
    "q2.check()"
   ]
  },
  {
   "cell_type": "code",
   "execution_count": 5,
   "id": "d7328644",
   "metadata": {
    "execution": {
     "iopub.execute_input": "2025-03-04T11:58:56.922060Z",
     "iopub.status.busy": "2025-03-04T11:58:56.921715Z",
     "iopub.status.idle": "2025-03-04T11:58:56.925804Z",
     "shell.execute_reply": "2025-03-04T11:58:56.924654Z"
    },
    "papermill": {
     "duration": 0.013305,
     "end_time": "2025-03-04T11:58:56.927514",
     "exception": false,
     "start_time": "2025-03-04T11:58:56.914209",
     "status": "completed"
    },
    "tags": []
   },
   "outputs": [],
   "source": [
    "# Uncomment to see a hint\n",
    "#q2.hint()\n",
    "\n",
    "# Uncomment to see the solution\n",
    "#q2.solution()"
   ]
  },
  {
   "cell_type": "markdown",
   "id": "b3a52b69",
   "metadata": {
    "papermill": {
     "duration": 0.005457,
     "end_time": "2025-03-04T11:58:56.938700",
     "exception": false,
     "start_time": "2025-03-04T11:58:56.933243",
     "status": "completed"
    },
    "tags": []
   },
   "source": [
    "# Question 3\n",
    "\n",
    "In the tutorial, we gave an example of a Python string with information that was better as a list."
   ]
  },
  {
   "cell_type": "code",
   "execution_count": 6,
   "id": "6f11764e",
   "metadata": {
    "execution": {
     "iopub.execute_input": "2025-03-04T11:58:56.951679Z",
     "iopub.status.busy": "2025-03-04T11:58:56.951305Z",
     "iopub.status.idle": "2025-03-04T11:58:56.955622Z",
     "shell.execute_reply": "2025-03-04T11:58:56.954362Z"
    },
    "papermill": {
     "duration": 0.012922,
     "end_time": "2025-03-04T11:58:56.957590",
     "exception": false,
     "start_time": "2025-03-04T11:58:56.944668",
     "status": "completed"
    },
    "tags": []
   },
   "outputs": [],
   "source": [
    "flowers = \"pink primrose,hard-leaved pocket orchid,canterbury bells,sweet pea,english marigold,tiger lily,moon orchid,bird of paradise,monkshood,globe thistle\""
   ]
  },
  {
   "cell_type": "markdown",
   "id": "515e36c8",
   "metadata": {
    "papermill": {
     "duration": 0.005475,
     "end_time": "2025-03-04T11:58:56.969035",
     "exception": false,
     "start_time": "2025-03-04T11:58:56.963560",
     "status": "completed"
    },
    "tags": []
   },
   "source": [
    "You can actually use Python to quickly turn this string into a list with `.split()`.  In the parentheses, we need to provide the character should be used to mark the end of one list item and the beginning of another, and enclose it in quotation marks.  In this case, that character is a comma."
   ]
  },
  {
   "cell_type": "code",
   "execution_count": 7,
   "id": "9b5860a2",
   "metadata": {
    "execution": {
     "iopub.execute_input": "2025-03-04T11:58:56.981865Z",
     "iopub.status.busy": "2025-03-04T11:58:56.981509Z",
     "iopub.status.idle": "2025-03-04T11:58:56.986385Z",
     "shell.execute_reply": "2025-03-04T11:58:56.985356Z"
    },
    "papermill": {
     "duration": 0.013272,
     "end_time": "2025-03-04T11:58:56.988054",
     "exception": false,
     "start_time": "2025-03-04T11:58:56.974782",
     "status": "completed"
    },
    "tags": []
   },
   "outputs": [
    {
     "name": "stdout",
     "output_type": "stream",
     "text": [
      "['pink primrose', 'hard-leaved pocket orchid', 'canterbury bells', 'sweet pea', 'english marigold', 'tiger lily', 'moon orchid', 'bird of paradise', 'monkshood', 'globe thistle']\n"
     ]
    }
   ],
   "source": [
    " print(flowers.split(\",\"))"
   ]
  },
  {
   "cell_type": "markdown",
   "id": "a3f3eaeb",
   "metadata": {
    "papermill": {
     "duration": 0.005459,
     "end_time": "2025-03-04T11:58:56.999300",
     "exception": false,
     "start_time": "2025-03-04T11:58:56.993841",
     "status": "completed"
    },
    "tags": []
   },
   "source": [
    "Now it is your turn to try this out!  Create two Python lists:\n",
    "- `letters` should be a Python list where each entry is an uppercase letter of the English alphabet.  For instance, the first two entries should be `\"A\"` and `\"B\"`, and the final two entries should be `\"Y\"` and `\"Z\"`.  Use the string `alphabet` to create this list.\n",
    "- `address` should be a Python list where each row in `address` is a different item in the list.  Currently, each row in `address` is separated by a comma. "
   ]
  },
  {
   "cell_type": "code",
   "execution_count": 8,
   "id": "311cf34c",
   "metadata": {
    "execution": {
     "iopub.execute_input": "2025-03-04T11:58:57.012151Z",
     "iopub.status.busy": "2025-03-04T11:58:57.011776Z",
     "iopub.status.idle": "2025-03-04T11:58:57.020797Z",
     "shell.execute_reply": "2025-03-04T11:58:57.019670Z"
    },
    "papermill": {
     "duration": 0.01764,
     "end_time": "2025-03-04T11:58:57.022585",
     "exception": false,
     "start_time": "2025-03-04T11:58:57.004945",
     "status": "completed"
    },
    "tags": []
   },
   "outputs": [
    {
     "data": {
      "application/javascript": [
       "parent.postMessage({\"jupyterEvent\": \"custom.exercise_interaction\", \"data\": {\"outcomeType\": 1, \"valueTowardsCompletion\": 0.2, \"interactionType\": 1, \"questionType\": 1, \"questionId\": \"3_SplitString\", \"learnToolsVersion\": \"0.3.4\", \"failureMessage\": \"\", \"exceptionClass\": \"\", \"trace\": \"\"}}, \"*\")"
      ],
      "text/plain": [
       "<IPython.core.display.Javascript object>"
      ]
     },
     "metadata": {},
     "output_type": "display_data"
    },
    {
     "data": {
      "text/markdown": [
       "<span style=\"color:#33cc33\">Correct</span>"
      ],
      "text/plain": [
       "Correct"
      ]
     },
     "metadata": {},
     "output_type": "display_data"
    }
   ],
   "source": [
    "# DO not change: Define two Python strings\n",
    "alphabet = \"A.B.C.D.E.F.G.H.I.J.K.L.M.N.O.P.Q.R.S.T.U.V.W.X.Y.Z\"\n",
    "address = \"Mr. H. Potter,The cupboard under the Stairs,4 Privet Drive,Little Whinging,Surrey\"\n",
    "\n",
    "# TODO: Convert strings into Python lists\n",
    "letters = alphabet.split(\".\")\n",
    "formatted_address = address.split(\",\")\n",
    "\n",
    "# Do not change: Check your answer\n",
    "q3.check()"
   ]
  },
  {
   "cell_type": "code",
   "execution_count": 9,
   "id": "b62d8386",
   "metadata": {
    "execution": {
     "iopub.execute_input": "2025-03-04T11:58:57.035848Z",
     "iopub.status.busy": "2025-03-04T11:58:57.035489Z",
     "iopub.status.idle": "2025-03-04T11:58:57.039351Z",
     "shell.execute_reply": "2025-03-04T11:58:57.038336Z"
    },
    "papermill": {
     "duration": 0.012366,
     "end_time": "2025-03-04T11:58:57.041089",
     "exception": false,
     "start_time": "2025-03-04T11:58:57.028723",
     "status": "completed"
    },
    "tags": []
   },
   "outputs": [],
   "source": [
    "# Uncomment to see a hint\n",
    "#q3.hint()\n",
    "\n",
    "# Uncomment to see the solution\n",
    "#q3.solution()"
   ]
  },
  {
   "cell_type": "markdown",
   "id": "ff5cdc38",
   "metadata": {
    "papermill": {
     "duration": 0.00612,
     "end_time": "2025-03-04T11:58:57.053457",
     "exception": false,
     "start_time": "2025-03-04T11:58:57.047337",
     "status": "completed"
    },
    "tags": []
   },
   "source": [
    "# Question 4\n",
    "\n",
    "In the Python course, you'll learn all about **list comprehensions**, which allow you to create a list based on the values in another list.  In this question, you'll get a brief preview of how they work.\n",
    "\n",
    "Say we're working with the list below."
   ]
  },
  {
   "cell_type": "code",
   "execution_count": 10,
   "id": "a1444819",
   "metadata": {
    "execution": {
     "iopub.execute_input": "2025-03-04T11:58:57.066828Z",
     "iopub.status.busy": "2025-03-04T11:58:57.066511Z",
     "iopub.status.idle": "2025-03-04T11:58:57.070660Z",
     "shell.execute_reply": "2025-03-04T11:58:57.069486Z"
    },
    "papermill": {
     "duration": 0.01264,
     "end_time": "2025-03-04T11:58:57.072200",
     "exception": false,
     "start_time": "2025-03-04T11:58:57.059560",
     "status": "completed"
    },
    "tags": []
   },
   "outputs": [],
   "source": [
    "test_ratings = [1, 2, 3, 4, 5]"
   ]
  },
  {
   "cell_type": "markdown",
   "id": "388ad7bd",
   "metadata": {
    "papermill": {
     "duration": 0.005856,
     "end_time": "2025-03-04T11:58:57.084280",
     "exception": false,
     "start_time": "2025-03-04T11:58:57.078424",
     "status": "completed"
    },
    "tags": []
   },
   "source": [
    "Then we can use this list (`test_ratings`) to create a new list (`test_liked`) where each item has been turned into a boolean, depending on whether or not the item is greater than or equal to four."
   ]
  },
  {
   "cell_type": "code",
   "execution_count": 11,
   "id": "cc7ad7a7",
   "metadata": {
    "execution": {
     "iopub.execute_input": "2025-03-04T11:58:57.097227Z",
     "iopub.status.busy": "2025-03-04T11:58:57.096835Z",
     "iopub.status.idle": "2025-03-04T11:58:57.101777Z",
     "shell.execute_reply": "2025-03-04T11:58:57.100568Z"
    },
    "papermill": {
     "duration": 0.013422,
     "end_time": "2025-03-04T11:58:57.103564",
     "exception": false,
     "start_time": "2025-03-04T11:58:57.090142",
     "status": "completed"
    },
    "tags": []
   },
   "outputs": [
    {
     "name": "stdout",
     "output_type": "stream",
     "text": [
      "[False, False, False, True, True]\n"
     ]
    }
   ],
   "source": [
    "test_liked = [i>=4 for i in test_ratings]\n",
    "print(test_liked)"
   ]
  },
  {
   "cell_type": "markdown",
   "id": "174a85dc",
   "metadata": {
    "papermill": {
     "duration": 0.005737,
     "end_time": "2025-03-04T11:58:57.115395",
     "exception": false,
     "start_time": "2025-03-04T11:58:57.109658",
     "status": "completed"
    },
    "tags": []
   },
   "source": [
    "In this question, you'll use this list comprehension to define a function `percentage_liked()` that takes one argument as input:\n",
    "- `ratings`: list of ratings that people gave to a movie, where each rating is a number between 1-5, inclusive\n",
    "\n",
    "We say someone liked the movie, if they gave a rating of either 4 or 5.  Your function should return the percentage of people who liked the movie.\n",
    "\n",
    "For instance, if we supply a value of `[1, 2, 3, 4, 5, 4, 5, 1]`, then 50% (4/8) of the people liked the movie, and the function should return `0.5`.\n",
    "\n",
    "Part of the function has already been completed for you.  You need only use `list_liked` to calculate `percentage_liked`."
   ]
  },
  {
   "cell_type": "code",
   "execution_count": 12,
   "id": "16d742cb",
   "metadata": {
    "execution": {
     "iopub.execute_input": "2025-03-04T11:58:57.128426Z",
     "iopub.status.busy": "2025-03-04T11:58:57.128026Z",
     "iopub.status.idle": "2025-03-04T11:58:57.136131Z",
     "shell.execute_reply": "2025-03-04T11:58:57.135213Z"
    },
    "papermill": {
     "duration": 0.016326,
     "end_time": "2025-03-04T11:58:57.137652",
     "exception": false,
     "start_time": "2025-03-04T11:58:57.121326",
     "status": "completed"
    },
    "tags": []
   },
   "outputs": [
    {
     "data": {
      "application/javascript": [
       "parent.postMessage({\"jupyterEvent\": \"custom.exercise_interaction\", \"data\": {\"outcomeType\": 1, \"valueTowardsCompletion\": 0.2, \"interactionType\": 1, \"questionType\": 2, \"questionId\": \"4_PercentageLiked\", \"learnToolsVersion\": \"0.3.4\", \"failureMessage\": \"\", \"exceptionClass\": \"\", \"trace\": \"\"}}, \"*\")"
      ],
      "text/plain": [
       "<IPython.core.display.Javascript object>"
      ]
     },
     "metadata": {},
     "output_type": "display_data"
    },
    {
     "data": {
      "text/markdown": [
       "<span style=\"color:#33cc33\">Correct</span>"
      ],
      "text/plain": [
       "Correct"
      ]
     },
     "metadata": {},
     "output_type": "display_data"
    }
   ],
   "source": [
    "\n",
    "def percentage_liked(ratings):\n",
    "    list_liked = [i>=4 for i in ratings]\n",
    "    # TODO: Complete the function\n",
    "    percentage_liked = sum(list_liked)/len(list_liked)\n",
    "    return percentage_liked\n",
    "\n",
    "# Do not change: should return 0.5\n",
    "percentage_liked([1, 2, 3, 4, 5, 4, 5, 1])\n",
    "\n",
    "# Do not change: Check your answer\n",
    "q4.check()"
   ]
  },
  {
   "cell_type": "code",
   "execution_count": 13,
   "id": "575c4f6d",
   "metadata": {
    "execution": {
     "iopub.execute_input": "2025-03-04T11:58:57.151943Z",
     "iopub.status.busy": "2025-03-04T11:58:57.151603Z",
     "iopub.status.idle": "2025-03-04T11:58:57.155458Z",
     "shell.execute_reply": "2025-03-04T11:58:57.154402Z"
    },
    "papermill": {
     "duration": 0.013319,
     "end_time": "2025-03-04T11:58:57.157213",
     "exception": false,
     "start_time": "2025-03-04T11:58:57.143894",
     "status": "completed"
    },
    "tags": []
   },
   "outputs": [],
   "source": [
    "# Uncomment to see a hint\n",
    "#q4.hint()\n",
    "\n",
    "# Uncomment to see the solution\n",
    "#q4.solution()"
   ]
  },
  {
   "cell_type": "markdown",
   "id": "5df85c93",
   "metadata": {
    "papermill": {
     "duration": 0.006027,
     "end_time": "2025-03-04T11:58:57.170086",
     "exception": false,
     "start_time": "2025-03-04T11:58:57.164059",
     "status": "completed"
    },
    "tags": []
   },
   "source": [
    "# 🌶️ Question 5\n",
    " \n",
    "Say you're doing analytics for a website.  You need to write a function that returns the percentage growth in the total number of users relative to a specified number of years ago.\n",
    "\n",
    "Your function `percentage_growth()` should take two arguments as input:\n",
    "- `num_users` = Python list with the total number of users each year.  So `num_users[0]` is the total number of users in the first year, `num_users[1]` is the total number of users in the second year, and so on.  The final entry in the list gives the total number of users in the most recently completed year.\n",
    "- `yrs_ago` = number of years to go back in time when calculating the growth percentage\n",
    "\n",
    "For instance, say `num_users = [920344, 1043553, 1204334, 1458996, 1503323, 1593432, 1623463, 1843064, 1930992, 2001078]`.\n",
    "- if `yrs_ago = 1`, we want the function to return a value of about `0.036`. This corresponds to a percentage growth of approximately 3.6%, calculated as (2001078 - 1930992)/1930992.\n",
    "- if `years_ago = 7`, we would want to return approximately `0.66`.  This corresponds to a percentage growth of approximately 66%, calculated as (2001078 - 1204334)/1204334.\n",
    "\n",
    "Your coworker sent you a draft of a function, but it doesn't seem to be doing the correct calculation.  Can you figure out what has gone wrong and make the needed changes?"
   ]
  },
  {
   "cell_type": "code",
   "execution_count": 14,
   "id": "ec6def98",
   "metadata": {
    "execution": {
     "iopub.execute_input": "2025-03-04T11:58:57.183981Z",
     "iopub.status.busy": "2025-03-04T11:58:57.183645Z",
     "iopub.status.idle": "2025-03-04T11:58:57.193870Z",
     "shell.execute_reply": "2025-03-04T11:58:57.192740Z"
    },
    "papermill": {
     "duration": 0.019322,
     "end_time": "2025-03-04T11:58:57.195691",
     "exception": false,
     "start_time": "2025-03-04T11:58:57.176369",
     "status": "completed"
    },
    "tags": []
   },
   "outputs": [
    {
     "name": "stdout",
     "output_type": "stream",
     "text": [
      "0.03629533421163837\n",
      "0.6615639847417742\n"
     ]
    },
    {
     "data": {
      "application/javascript": [
       "parent.postMessage({\"jupyterEvent\": \"custom.exercise_interaction\", \"data\": {\"outcomeType\": 1, \"valueTowardsCompletion\": 0.2, \"interactionType\": 1, \"questionType\": 2, \"questionId\": \"5_WebsiteAnalytics\", \"learnToolsVersion\": \"0.3.4\", \"failureMessage\": \"\", \"exceptionClass\": \"\", \"trace\": \"\"}}, \"*\")"
      ],
      "text/plain": [
       "<IPython.core.display.Javascript object>"
      ]
     },
     "metadata": {},
     "output_type": "display_data"
    },
    {
     "data": {
      "text/markdown": [
       "<span style=\"color:#33cc33\">Correct</span>"
      ],
      "text/plain": [
       "Correct"
      ]
     },
     "metadata": {},
     "output_type": "display_data"
    }
   ],
   "source": [
    "# TODO: Edit the function\n",
    "def percentage_growth(num_users, yrs_ago):\n",
    "    growth = (num_users[len(num_users)-1] - num_users[len(num_users)-yrs_ago-1])/num_users[len(num_users)-yrs_ago-1]\n",
    "    return growth\n",
    "\n",
    "# Do not change: Variable for calculating some test examples\n",
    "num_users_test = [920344, 1043553, 1204334, 1458996, 1503323, 1593432, 1623463, 1843064, 1930992, 2001078]\n",
    "\n",
    "# Do not change: Should return .036\n",
    "print(percentage_growth(num_users_test, 1))\n",
    "\n",
    "# Do not change: Should return 0.66\n",
    "print(percentage_growth(num_users_test, 7))\n",
    "\n",
    "# Do not change: Check your answer\n",
    "q5.check()"
   ]
  },
  {
   "cell_type": "code",
   "execution_count": 15,
   "id": "1a004ea1",
   "metadata": {
    "execution": {
     "iopub.execute_input": "2025-03-04T11:58:57.210149Z",
     "iopub.status.busy": "2025-03-04T11:58:57.209833Z",
     "iopub.status.idle": "2025-03-04T11:58:57.213868Z",
     "shell.execute_reply": "2025-03-04T11:58:57.212627Z"
    },
    "papermill": {
     "duration": 0.013276,
     "end_time": "2025-03-04T11:58:57.215660",
     "exception": false,
     "start_time": "2025-03-04T11:58:57.202384",
     "status": "completed"
    },
    "tags": []
   },
   "outputs": [],
   "source": [
    "# Uncomment to see a hint\n",
    "#q5.hint()\n",
    "\n",
    "# Uncomment to see the solution\n",
    "#q5.solution()"
   ]
  },
  {
   "cell_type": "markdown",
   "id": "4f306254",
   "metadata": {
    "papermill": {
     "duration": 0.006296,
     "end_time": "2025-03-04T11:58:57.228959",
     "exception": false,
     "start_time": "2025-03-04T11:58:57.222663",
     "status": "completed"
    },
    "tags": []
   },
   "source": [
    "# Congratulations!\n",
    "\n",
    "Congratulations for finishing the Intro to Programming course!  You should be proud of your very first steps with learning programming.  As next steps, we recommend taking:\n",
    "- the **[Python course](http://www.kaggle.com/learn/python)**, and \n",
    "- the **[Intro to Machine Learning course](https://www.kaggle.com/learn/intro-to-machine-learning)**."
   ]
  },
  {
   "cell_type": "markdown",
   "id": "4c98a7a1",
   "metadata": {
    "papermill": {
     "duration": 0.006604,
     "end_time": "2025-03-04T11:58:57.242069",
     "exception": false,
     "start_time": "2025-03-04T11:58:57.235465",
     "status": "completed"
    },
    "tags": []
   },
   "source": [
    "---\n",
    "\n",
    "\n",
    "\n",
    "\n",
    "*Have questions or comments? Visit the [course discussion forum](https://www.kaggle.com/learn/intro-to-programming/discussion) to chat with other learners.*"
   ]
  }
 ],
 "metadata": {
  "kaggle": {
   "accelerator": "none",
   "dataSources": [],
   "isGpuEnabled": false,
   "isInternetEnabled": false,
   "language": "python",
   "sourceType": "notebook"
  },
  "kernelspec": {
   "display_name": "Python 3",
   "language": "python",
   "name": "python3"
  },
  "language_info": {
   "codemirror_mode": {
    "name": "ipython",
    "version": 3
   },
   "file_extension": ".py",
   "mimetype": "text/x-python",
   "name": "python",
   "nbconvert_exporter": "python",
   "pygments_lexer": "ipython3",
   "version": "3.10.12"
  },
  "papermill": {
   "default_parameters": {},
   "duration": 5.01964,
   "end_time": "2025-03-04T11:58:57.868752",
   "environment_variables": {},
   "exception": null,
   "input_path": "__notebook__.ipynb",
   "output_path": "__notebook__.ipynb",
   "parameters": {},
   "start_time": "2025-03-04T11:58:52.849112",
   "version": "2.6.0"
  }
 },
 "nbformat": 4,
 "nbformat_minor": 5
}
