{
 "cells": [
  {
   "cell_type": "markdown",
   "id": "b1f2b538",
   "metadata": {
    "papermill": {
     "duration": 0.005678,
     "end_time": "2025-03-04T11:10:24.582081",
     "exception": false,
     "start_time": "2025-03-04T11:10:24.576403",
     "status": "completed"
    },
    "tags": []
   },
   "source": [
    "**This notebook is an exercise in the [Intro to Programming](https://www.kaggle.com/learn/intro-to-programming) course.  You can reference the tutorial at [this link](https://www.kaggle.com/alexisbcook/functions).**\n",
    "\n",
    "---\n"
   ]
  },
  {
   "cell_type": "markdown",
   "id": "8258c3be",
   "metadata": {
    "papermill": {
     "duration": 0.004681,
     "end_time": "2025-03-04T11:10:24.591925",
     "exception": false,
     "start_time": "2025-03-04T11:10:24.587244",
     "status": "completed"
    },
    "tags": []
   },
   "source": [
    "In the tutorial, you learned about functions. In this exercise, you'll write some of your own!\n",
    "\n",
    "# Set up the notebook\n",
    "\n",
    "Run the next code cell without changes to set up the notebook."
   ]
  },
  {
   "cell_type": "code",
   "execution_count": 1,
   "id": "3e0aeef1",
   "metadata": {
    "execution": {
     "iopub.execute_input": "2025-03-04T11:10:24.603019Z",
     "iopub.status.busy": "2025-03-04T11:10:24.602628Z",
     "iopub.status.idle": "2025-03-04T11:10:25.521855Z",
     "shell.execute_reply": "2025-03-04T11:10:25.520187Z"
    },
    "papermill": {
     "duration": 0.927037,
     "end_time": "2025-03-04T11:10:25.523821",
     "exception": false,
     "start_time": "2025-03-04T11:10:24.596784",
     "status": "completed"
    },
    "tags": []
   },
   "outputs": [
    {
     "name": "stdout",
     "output_type": "stream",
     "text": [
      "Setup complete.\n"
     ]
    }
   ],
   "source": [
    "# Set up the exercise\n",
    "import math\n",
    "from learntools.core import binder\n",
    "binder.bind(globals())\n",
    "from learntools.intro_to_programming.ex2 import *\n",
    "print('Setup complete.')"
   ]
  },
  {
   "cell_type": "markdown",
   "id": "e5246850",
   "metadata": {
    "papermill": {
     "duration": 0.004765,
     "end_time": "2025-03-04T11:10:25.533912",
     "exception": false,
     "start_time": "2025-03-04T11:10:25.529147",
     "status": "completed"
    },
    "tags": []
   },
   "source": [
    "# Question 1\n",
    "\n",
    "In the [House Prices - Advanced Regression Techniques competition](https://www.kaggle.com/c/house-prices-advanced-regression-techniques/overview), you need to use information like the number of bedrooms and bathrooms to predict the price of a house.  Inspired by this competition, you'll write your own function to do this.\n",
    "\n",
    "In the next code cell, create a function `get_expected_cost()` that has two arguments:\n",
    "- `beds` - number of bedrooms \n",
    "- `baths` - number of bathrooms\n",
    "\n",
    "It should return the expected cost of a house with that number of bedrooms and bathrooms.  Assume that:\n",
    "- the expected cost for a house with 0 bedrooms and 0 bathrooms is `80000`.  \n",
    "- each bedroom adds `30000` to the expected cost\n",
    "- each bathroom adds `10000` to the expected cost.\n",
    "\n",
    "For instance, \n",
    "- a house with 1 bedroom and 1 bathroom has an expected cost of `120000`, and \n",
    "- a house with 2 bedrooms and 1 bathroom has an expected cost of `150000`."
   ]
  },
  {
   "cell_type": "code",
   "execution_count": 2,
   "id": "d4278575",
   "metadata": {
    "execution": {
     "iopub.execute_input": "2025-03-04T11:10:25.545184Z",
     "iopub.status.busy": "2025-03-04T11:10:25.544666Z",
     "iopub.status.idle": "2025-03-04T11:10:25.552900Z",
     "shell.execute_reply": "2025-03-04T11:10:25.552091Z"
    },
    "papermill": {
     "duration": 0.015483,
     "end_time": "2025-03-04T11:10:25.554370",
     "exception": false,
     "start_time": "2025-03-04T11:10:25.538887",
     "status": "completed"
    },
    "tags": []
   },
   "outputs": [
    {
     "data": {
      "application/javascript": [
       "parent.postMessage({\"jupyterEvent\": \"custom.exercise_interaction\", \"data\": {\"outcomeType\": 1, \"valueTowardsCompletion\": 0.2, \"interactionType\": 1, \"questionType\": 2, \"questionId\": \"1_GetExpectedCost\", \"learnToolsVersion\": \"0.3.4\", \"failureMessage\": \"\", \"exceptionClass\": \"\", \"trace\": \"\"}}, \"*\")"
      ],
      "text/plain": [
       "<IPython.core.display.Javascript object>"
      ]
     },
     "metadata": {},
     "output_type": "display_data"
    },
    {
     "data": {
      "text/markdown": [
       "<span style=\"color:#33cc33\">Correct</span>"
      ],
      "text/plain": [
       "Correct"
      ]
     },
     "metadata": {},
     "output_type": "display_data"
    }
   ],
   "source": [
    "# TODO: Complete the function\n",
    "def get_expected_cost(beds, baths):\n",
    "    value =80000 + beds*30000 + baths*10000 \n",
    "    return value\n",
    "\n",
    "# Check your answer \n",
    "q1.check()"
   ]
  },
  {
   "cell_type": "code",
   "execution_count": 3,
   "id": "6ecdc5a3",
   "metadata": {
    "execution": {
     "iopub.execute_input": "2025-03-04T11:10:25.565686Z",
     "iopub.status.busy": "2025-03-04T11:10:25.565372Z",
     "iopub.status.idle": "2025-03-04T11:10:25.568678Z",
     "shell.execute_reply": "2025-03-04T11:10:25.567911Z"
    },
    "papermill": {
     "duration": 0.010519,
     "end_time": "2025-03-04T11:10:25.570109",
     "exception": false,
     "start_time": "2025-03-04T11:10:25.559590",
     "status": "completed"
    },
    "tags": []
   },
   "outputs": [],
   "source": [
    "# Uncomment to see a hint\n",
    "#q1.hint()\n",
    "\n",
    "# Uncomment to view the solution\n",
    "#q1.solution()"
   ]
  },
  {
   "cell_type": "markdown",
   "id": "0bcecd93",
   "metadata": {
    "papermill": {
     "duration": 0.004931,
     "end_time": "2025-03-04T11:10:25.580281",
     "exception": false,
     "start_time": "2025-03-04T11:10:25.575350",
     "status": "completed"
    },
    "tags": []
   },
   "source": [
    "# Question 2\n",
    "\n",
    "You are thinking about buying a home and want to get an idea of how much you will spend, based on the number of bedrooms and bathrooms.  You are trying to decide between four different options:\n",
    "- Option 1: house with two bedrooms and three bathrooms\n",
    "- Option 2: house with three bedrooms and two bathrooms\n",
    "- Option 3: house with three bedrooms and three bathrooms\n",
    "- Option 4: house with three bedrooms and four bathrooms\n",
    "\n",
    "Use the `get_expected_cost()` function you defined in question 1 to set `option_1`, `option_2`, `option_3`, and `option_4` to the expected cost of each option."
   ]
  },
  {
   "cell_type": "code",
   "execution_count": 4,
   "id": "1723943c",
   "metadata": {
    "execution": {
     "iopub.execute_input": "2025-03-04T11:10:25.591570Z",
     "iopub.status.busy": "2025-03-04T11:10:25.591238Z",
     "iopub.status.idle": "2025-03-04T11:10:25.600019Z",
     "shell.execute_reply": "2025-03-04T11:10:25.599202Z"
    },
    "papermill": {
     "duration": 0.016246,
     "end_time": "2025-03-04T11:10:25.601563",
     "exception": false,
     "start_time": "2025-03-04T11:10:25.585317",
     "status": "completed"
    },
    "tags": []
   },
   "outputs": [
    {
     "name": "stdout",
     "output_type": "stream",
     "text": [
      "170000\n",
      "190000\n",
      "200000\n",
      "210000\n"
     ]
    },
    {
     "data": {
      "application/javascript": [
       "parent.postMessage({\"jupyterEvent\": \"custom.exercise_interaction\", \"data\": {\"outcomeType\": 1, \"valueTowardsCompletion\": 0.2, \"interactionType\": 1, \"questionType\": 1, \"questionId\": \"2_RunGetExpectedCost\", \"learnToolsVersion\": \"0.3.4\", \"failureMessage\": \"\", \"exceptionClass\": \"\", \"trace\": \"\"}}, \"*\")"
      ],
      "text/plain": [
       "<IPython.core.display.Javascript object>"
      ]
     },
     "metadata": {},
     "output_type": "display_data"
    },
    {
     "data": {
      "text/markdown": [
       "<span style=\"color:#33cc33\">Correct</span>"
      ],
      "text/plain": [
       "Correct"
      ]
     },
     "metadata": {},
     "output_type": "display_data"
    }
   ],
   "source": [
    "# TODO: Use the get_expected_cost function to fill in each value\n",
    "option_one = get_expected_cost(2,3)\n",
    "option_two = get_expected_cost(3,2) \n",
    "option_three = get_expected_cost(3,3)\n",
    "option_four = get_expected_cost(3,4)\n",
    "\n",
    "print(option_one)\n",
    "print(option_two)\n",
    "print(option_three)\n",
    "print(option_four)\n",
    "\n",
    "# Check your answer\n",
    "q2.check()"
   ]
  },
  {
   "cell_type": "code",
   "execution_count": 5,
   "id": "0ec49c91",
   "metadata": {
    "execution": {
     "iopub.execute_input": "2025-03-04T11:10:25.613598Z",
     "iopub.status.busy": "2025-03-04T11:10:25.613279Z",
     "iopub.status.idle": "2025-03-04T11:10:25.616562Z",
     "shell.execute_reply": "2025-03-04T11:10:25.615766Z"
    },
    "papermill": {
     "duration": 0.010959,
     "end_time": "2025-03-04T11:10:25.617956",
     "exception": false,
     "start_time": "2025-03-04T11:10:25.606997",
     "status": "completed"
    },
    "tags": []
   },
   "outputs": [],
   "source": [
    "# Uncomment to see a hint\n",
    "#q2.hint()\n",
    "\n",
    "# Uncomment to view the solution\n",
    "#q2.solution()"
   ]
  },
  {
   "cell_type": "markdown",
   "id": "d4b4fe9f",
   "metadata": {
    "papermill": {
     "duration": 0.005153,
     "end_time": "2025-03-04T11:10:25.628574",
     "exception": false,
     "start_time": "2025-03-04T11:10:25.623421",
     "status": "completed"
    },
    "tags": []
   },
   "source": [
    "# Question 3\n",
    "\n",
    "You're a home decorator, and you'd like to use Python to streamline some of your work.  Specifically, you're creating a tool that you intend to use to calculate the cost of painting a room.\n",
    "\n",
    "As a first step, define a function `get_cost()` that takes as input:\n",
    "- `sqft_walls` = total square feet of walls to be painted\n",
    "- `sqft_ceiling` = square feet of ceiling to be painted\n",
    "- `sqft_per_gallon` = number of square feet that you can cover with one gallon of paint\n",
    "- `cost_per_gallon` = cost (in dollars) of one gallon of paint\n",
    "\n",
    "It should return the cost (in dollars) of putting one coat of paint on all walls and the ceiling.  Assume you can buy the exact amount of paint that you need, so you can buy partial gallons (e.g., if you need 7.523 gallons, you can buy that exact amount, instead of needing to buy 8 gallons and waste some paint).  Do not round your answer."
   ]
  },
  {
   "cell_type": "code",
   "execution_count": 6,
   "id": "6473e795",
   "metadata": {
    "execution": {
     "iopub.execute_input": "2025-03-04T11:10:25.640295Z",
     "iopub.status.busy": "2025-03-04T11:10:25.639995Z",
     "iopub.status.idle": "2025-03-04T11:10:25.647173Z",
     "shell.execute_reply": "2025-03-04T11:10:25.646335Z"
    },
    "papermill": {
     "duration": 0.014777,
     "end_time": "2025-03-04T11:10:25.648658",
     "exception": false,
     "start_time": "2025-03-04T11:10:25.633881",
     "status": "completed"
    },
    "tags": []
   },
   "outputs": [
    {
     "data": {
      "application/javascript": [
       "parent.postMessage({\"jupyterEvent\": \"custom.exercise_interaction\", \"data\": {\"outcomeType\": 1, \"valueTowardsCompletion\": 0.2, \"interactionType\": 1, \"questionType\": 2, \"questionId\": \"3_GetCostPaint\", \"learnToolsVersion\": \"0.3.4\", \"failureMessage\": \"\", \"exceptionClass\": \"\", \"trace\": \"\"}}, \"*\")"
      ],
      "text/plain": [
       "<IPython.core.display.Javascript object>"
      ]
     },
     "metadata": {},
     "output_type": "display_data"
    },
    {
     "data": {
      "text/markdown": [
       "<span style=\"color:#33cc33\">Correct</span>"
      ],
      "text/plain": [
       "Correct"
      ]
     },
     "metadata": {},
     "output_type": "display_data"
    }
   ],
   "source": [
    "# TODO: Finish defining the function\n",
    "def get_cost(sqft_walls, sqft_ceiling, sqft_per_gallon, cost_per_gallon):\n",
    "    total_sqft= sqft_walls + sqft_ceiling\n",
    "    total_gallons= total_sqft/ sqft_per_gallon\n",
    "    cost = total_gallons* cost_per_gallon\n",
    "    return cost\n",
    "\n",
    "# Check your answer\n",
    "q3.check()"
   ]
  },
  {
   "cell_type": "code",
   "execution_count": 7,
   "id": "25186e6b",
   "metadata": {
    "execution": {
     "iopub.execute_input": "2025-03-04T11:10:25.660990Z",
     "iopub.status.busy": "2025-03-04T11:10:25.660661Z",
     "iopub.status.idle": "2025-03-04T11:10:25.663905Z",
     "shell.execute_reply": "2025-03-04T11:10:25.663130Z"
    },
    "papermill": {
     "duration": 0.011102,
     "end_time": "2025-03-04T11:10:25.665283",
     "exception": false,
     "start_time": "2025-03-04T11:10:25.654181",
     "status": "completed"
    },
    "tags": []
   },
   "outputs": [],
   "source": [
    "# Uncomment to see a hint\n",
    "#q3.hint()\n",
    "\n",
    "# Uncomment to view the solution\n",
    "# q3.solution()"
   ]
  },
  {
   "cell_type": "markdown",
   "id": "e33ea19d",
   "metadata": {
    "papermill": {
     "duration": 0.005435,
     "end_time": "2025-03-04T11:10:25.676426",
     "exception": false,
     "start_time": "2025-03-04T11:10:25.670991",
     "status": "completed"
    },
    "tags": []
   },
   "source": [
    "# Question 4\n",
    "\n",
    "Use the `get_cost()` function you defined in Question 3 to calculate the cost of applying one coat of paint to a room with:\n",
    "- 432 square feet of walls, and\n",
    "- 144 square feet of ceiling.\n",
    "\n",
    "Assume that one gallon of paint covers 400 square feet and costs $15.  As in Question 3, assume you can buy partial gallons of paint.  Do not round your answer."
   ]
  },
  {
   "cell_type": "code",
   "execution_count": 8,
   "id": "a1247096",
   "metadata": {
    "execution": {
     "iopub.execute_input": "2025-03-04T11:10:25.688641Z",
     "iopub.status.busy": "2025-03-04T11:10:25.688294Z",
     "iopub.status.idle": "2025-03-04T11:10:25.695334Z",
     "shell.execute_reply": "2025-03-04T11:10:25.694540Z"
    },
    "papermill": {
     "duration": 0.014982,
     "end_time": "2025-03-04T11:10:25.696944",
     "exception": false,
     "start_time": "2025-03-04T11:10:25.681962",
     "status": "completed"
    },
    "tags": []
   },
   "outputs": [
    {
     "data": {
      "application/javascript": [
       "parent.postMessage({\"jupyterEvent\": \"custom.exercise_interaction\", \"data\": {\"outcomeType\": 1, \"valueTowardsCompletion\": 0.2, \"interactionType\": 1, \"questionType\": 1, \"questionId\": \"4_GetCostPaintExample\", \"learnToolsVersion\": \"0.3.4\", \"failureMessage\": \"\", \"exceptionClass\": \"\", \"trace\": \"\"}}, \"*\")"
      ],
      "text/plain": [
       "<IPython.core.display.Javascript object>"
      ]
     },
     "metadata": {},
     "output_type": "display_data"
    },
    {
     "data": {
      "text/markdown": [
       "<span style=\"color:#33cc33\">Correct</span>"
      ],
      "text/plain": [
       "Correct"
      ]
     },
     "metadata": {},
     "output_type": "display_data"
    }
   ],
   "source": [
    "# TODO: Set the project_cost variable to the cost of the project\n",
    "project_cost = get_cost(432,144,400,15)\n",
    "\n",
    "# Check your answer\n",
    "q4.check()"
   ]
  },
  {
   "cell_type": "code",
   "execution_count": 9,
   "id": "83b3836e",
   "metadata": {
    "execution": {
     "iopub.execute_input": "2025-03-04T11:10:25.709911Z",
     "iopub.status.busy": "2025-03-04T11:10:25.709571Z",
     "iopub.status.idle": "2025-03-04T11:10:25.712765Z",
     "shell.execute_reply": "2025-03-04T11:10:25.712036Z"
    },
    "papermill": {
     "duration": 0.011383,
     "end_time": "2025-03-04T11:10:25.714283",
     "exception": false,
     "start_time": "2025-03-04T11:10:25.702900",
     "status": "completed"
    },
    "tags": []
   },
   "outputs": [],
   "source": [
    "# Uncomment to see a hint\n",
    "#q4.hint()\n",
    "\n",
    "# Uncomment to view the solution\n",
    "#q4.solution()"
   ]
  },
  {
   "cell_type": "markdown",
   "id": "1f200a6d",
   "metadata": {
    "papermill": {
     "duration": 0.005435,
     "end_time": "2025-03-04T11:10:25.725571",
     "exception": false,
     "start_time": "2025-03-04T11:10:25.720136",
     "status": "completed"
    },
    "tags": []
   },
   "source": [
    "# 🌶️ Question 5\n",
    "\n",
    "Now say you can no longer buy fractions of a gallon.  (For instance, if you need 4.3 gallons to do a project, then you have to buy 5 gallons of paint.)\n",
    "\n",
    "With this new scenario, you will create a new function `get_actual_cost` that uses the same inputs and calculates the cost of your project.\n",
    "\n",
    "One function that you'll need to use to do this is `math.ceil()`.  We demonstrate usage of this function in the code cell below.  It takes as a number as input and rounds the number up to the nearest integer.  \n",
    "\n",
    "Run the next code cell to test this function for yourself.  Feel free to change the value of `test_value` and make sure `math.ceil()` returns the number you expect."
   ]
  },
  {
   "cell_type": "code",
   "execution_count": 10,
   "id": "1dda42e8",
   "metadata": {
    "execution": {
     "iopub.execute_input": "2025-03-04T11:10:25.738413Z",
     "iopub.status.busy": "2025-03-04T11:10:25.738059Z",
     "iopub.status.idle": "2025-03-04T11:10:25.742945Z",
     "shell.execute_reply": "2025-03-04T11:10:25.742033Z"
    },
    "papermill": {
     "duration": 0.013086,
     "end_time": "2025-03-04T11:10:25.744363",
     "exception": false,
     "start_time": "2025-03-04T11:10:25.731277",
     "status": "completed"
    },
    "tags": []
   },
   "outputs": [
    {
     "name": "stdout",
     "output_type": "stream",
     "text": [
      "3\n"
     ]
    }
   ],
   "source": [
    "test_value = 2.17\n",
    "\n",
    "rounded_value = math.ceil(test_value)\n",
    "print(rounded_value)"
   ]
  },
  {
   "cell_type": "markdown",
   "id": "9935fc42",
   "metadata": {
    "papermill": {
     "duration": 0.005674,
     "end_time": "2025-03-04T11:10:25.756081",
     "exception": false,
     "start_time": "2025-03-04T11:10:25.750407",
     "status": "completed"
    },
    "tags": []
   },
   "source": [
    "Use the next code cell to define the function `get_actual_cost()`.  You'll need to use the `math.ceil()` function to do this.\n",
    "\n",
    "When answering this question, note that it's completely valid to define a function that makes use of another function.  For instance, we can define a function `round_up_and_divide_by_three` that makes use of the `math.ceil` function:\n",
    "```\n",
    "def round_up_and_divide_by_three(num):\n",
    "    new_value = math.ceil(num)\n",
    "    final_value = new_value / 3\n",
    "    return final_value\n",
    "```"
   ]
  },
  {
   "cell_type": "code",
   "execution_count": 11,
   "id": "ce79571f",
   "metadata": {
    "execution": {
     "iopub.execute_input": "2025-03-04T11:10:25.769278Z",
     "iopub.status.busy": "2025-03-04T11:10:25.768957Z",
     "iopub.status.idle": "2025-03-04T11:10:25.776367Z",
     "shell.execute_reply": "2025-03-04T11:10:25.775410Z"
    },
    "papermill": {
     "duration": 0.015723,
     "end_time": "2025-03-04T11:10:25.777733",
     "exception": false,
     "start_time": "2025-03-04T11:10:25.762010",
     "status": "completed"
    },
    "tags": []
   },
   "outputs": [
    {
     "data": {
      "application/javascript": [
       "parent.postMessage({\"jupyterEvent\": \"custom.exercise_interaction\", \"data\": {\"outcomeType\": 1, \"valueTowardsCompletion\": 0.2, \"interactionType\": 1, \"questionType\": 2, \"questionId\": \"5_NoMoreFractions\", \"learnToolsVersion\": \"0.3.4\", \"failureMessage\": \"\", \"exceptionClass\": \"\", \"trace\": \"\"}}, \"*\")"
      ],
      "text/plain": [
       "<IPython.core.display.Javascript object>"
      ]
     },
     "metadata": {},
     "output_type": "display_data"
    },
    {
     "data": {
      "text/markdown": [
       "<span style=\"color:#33cc33\">Correct</span>"
      ],
      "text/plain": [
       "Correct"
      ]
     },
     "metadata": {},
     "output_type": "display_data"
    }
   ],
   "source": [
    "def get_actual_cost(sqft_walls, sqft_ceiling, sqft_per_gallon, cost_per_gallon):\n",
    "    total_sqft= sqft_walls + sqft_ceiling\n",
    "    total_gallons= total_sqft/ sqft_per_gallon\n",
    "    gallons_to_buy= math.ceil(total_gallons)\n",
    "    cost= cost_per_gallon* gallons_to_buy\n",
    "    return cost\n",
    "\n",
    "# Check your answer\n",
    "q5.check()"
   ]
  },
  {
   "cell_type": "code",
   "execution_count": 12,
   "id": "d7a52535",
   "metadata": {
    "execution": {
     "iopub.execute_input": "2025-03-04T11:10:25.791033Z",
     "iopub.status.busy": "2025-03-04T11:10:25.790673Z",
     "iopub.status.idle": "2025-03-04T11:10:25.794349Z",
     "shell.execute_reply": "2025-03-04T11:10:25.793418Z"
    },
    "papermill": {
     "duration": 0.012015,
     "end_time": "2025-03-04T11:10:25.795790",
     "exception": false,
     "start_time": "2025-03-04T11:10:25.783775",
     "status": "completed"
    },
    "tags": []
   },
   "outputs": [],
   "source": [
    "# Uncomment to see a hint\n",
    "#q5.hint()\n",
    "\n",
    "# Uncomment to view the solution\n",
    "#q5.solution()"
   ]
  },
  {
   "cell_type": "markdown",
   "id": "c8ecd486",
   "metadata": {
    "papermill": {
     "duration": 0.005953,
     "end_time": "2025-03-04T11:10:25.807947",
     "exception": false,
     "start_time": "2025-03-04T11:10:25.801994",
     "status": "completed"
    },
    "tags": []
   },
   "source": [
    "Once your function is verified as correct, run the next code cell to calculate the updated cost of your project."
   ]
  },
  {
   "cell_type": "code",
   "execution_count": 13,
   "id": "45970305",
   "metadata": {
    "execution": {
     "iopub.execute_input": "2025-03-04T11:10:25.821153Z",
     "iopub.status.busy": "2025-03-04T11:10:25.820758Z",
     "iopub.status.idle": "2025-03-04T11:10:25.826578Z",
     "shell.execute_reply": "2025-03-04T11:10:25.825605Z"
    },
    "papermill": {
     "duration": 0.014254,
     "end_time": "2025-03-04T11:10:25.828211",
     "exception": false,
     "start_time": "2025-03-04T11:10:25.813957",
     "status": "completed"
    },
    "tags": []
   },
   "outputs": [
    {
     "data": {
      "text/plain": [
       "30"
      ]
     },
     "execution_count": 13,
     "metadata": {},
     "output_type": "execute_result"
    }
   ],
   "source": [
    "get_actual_cost(432, 144, 400, 15) "
   ]
  },
  {
   "cell_type": "markdown",
   "id": "73ace370",
   "metadata": {
    "papermill": {
     "duration": 0.005803,
     "end_time": "2025-03-04T11:10:25.840420",
     "exception": false,
     "start_time": "2025-03-04T11:10:25.834617",
     "status": "completed"
    },
    "tags": []
   },
   "source": [
    "Say you're working with a slightly larger room.  Run the next code cell to calculate the cost of the project."
   ]
  },
  {
   "cell_type": "code",
   "execution_count": 14,
   "id": "041e3642",
   "metadata": {
    "execution": {
     "iopub.execute_input": "2025-03-04T11:10:25.854128Z",
     "iopub.status.busy": "2025-03-04T11:10:25.853710Z",
     "iopub.status.idle": "2025-03-04T11:10:25.859494Z",
     "shell.execute_reply": "2025-03-04T11:10:25.858660Z"
    },
    "papermill": {
     "duration": 0.014394,
     "end_time": "2025-03-04T11:10:25.861029",
     "exception": false,
     "start_time": "2025-03-04T11:10:25.846635",
     "status": "completed"
    },
    "tags": []
   },
   "outputs": [
    {
     "data": {
      "text/plain": [
       "45"
      ]
     },
     "execution_count": 14,
     "metadata": {},
     "output_type": "execute_result"
    }
   ],
   "source": [
    "get_actual_cost(594, 288, 400, 15) "
   ]
  },
  {
   "cell_type": "code",
   "execution_count": 15,
   "id": "ec98a9d9",
   "metadata": {
    "execution": {
     "iopub.execute_input": "2025-03-04T11:10:25.874738Z",
     "iopub.status.busy": "2025-03-04T11:10:25.874390Z",
     "iopub.status.idle": "2025-03-04T11:10:25.880891Z",
     "shell.execute_reply": "2025-03-04T11:10:25.880010Z"
    },
    "papermill": {
     "duration": 0.014892,
     "end_time": "2025-03-04T11:10:25.882408",
     "exception": false,
     "start_time": "2025-03-04T11:10:25.867516",
     "status": "completed"
    },
    "tags": []
   },
   "outputs": [
    {
     "data": {
      "application/javascript": [
       "parent.postMessage({\"jupyterEvent\": \"custom.exercise_interaction\", \"data\": {\"interactionType\": 3, \"questionType\": 2, \"questionId\": \"3_GetCostPaint\", \"learnToolsVersion\": \"0.3.4\", \"valueTowardsCompletion\": 0.0, \"failureMessage\": \"\", \"exceptionClass\": \"\", \"trace\": \"\", \"outcomeType\": 4}}, \"*\")"
      ],
      "text/plain": [
       "<IPython.core.display.Javascript object>"
      ]
     },
     "metadata": {},
     "output_type": "display_data"
    },
    {
     "data": {
      "text/markdown": [
       "<span style=\"color:#33cc99\">Solution:</span> \n",
       "```python\n",
       "\n",
       "def get_cost(sqft_walls, sqft_ceiling, sqft_per_gallon, cost_per_gallon):\n",
       "    total_sqft = sqft_walls + sqft_ceiling\n",
       "    gallons_needed = total_sqft / sqft_per_gallon\n",
       "    cost = cost_per_gallon * gallons_needed\n",
       "    return cost\n",
       "\n",
       "```"
      ],
      "text/plain": [
       "Solution: \n",
       "```python\n",
       "\n",
       "def get_cost(sqft_walls, sqft_ceiling, sqft_per_gallon, cost_per_gallon):\n",
       "    total_sqft = sqft_walls + sqft_ceiling\n",
       "    gallons_needed = total_sqft / sqft_per_gallon\n",
       "    cost = cost_per_gallon * gallons_needed\n",
       "    return cost\n",
       "\n",
       "```"
      ]
     },
     "metadata": {},
     "output_type": "display_data"
    }
   ],
   "source": [
    "# Uncomment to see a hint\n",
    "#q3.hint()\n",
    "\n",
    "# Uncomment to view the solution\n",
    "q3.solution()"
   ]
  },
  {
   "cell_type": "markdown",
   "id": "ccef89dd",
   "metadata": {
    "papermill": {
     "duration": 0.006526,
     "end_time": "2025-03-04T11:10:25.895516",
     "exception": false,
     "start_time": "2025-03-04T11:10:25.888990",
     "status": "completed"
    },
    "tags": []
   },
   "source": [
    "# Keep going\n",
    "\n",
    "Continue to learn about **[data types](https://www.kaggle.com/alexisbcook/data-types)**."
   ]
  },
  {
   "cell_type": "markdown",
   "id": "9cb678fe",
   "metadata": {
    "papermill": {
     "duration": 0.00611,
     "end_time": "2025-03-04T11:10:25.907977",
     "exception": false,
     "start_time": "2025-03-04T11:10:25.901867",
     "status": "completed"
    },
    "tags": []
   },
   "source": [
    "---\n",
    "\n",
    "\n",
    "\n",
    "\n",
    "*Have questions or comments? Visit the [course discussion forum](https://www.kaggle.com/learn/intro-to-programming/discussion) to chat with other learners.*"
   ]
  }
 ],
 "metadata": {
  "kaggle": {
   "accelerator": "none",
   "dataSources": [],
   "isGpuEnabled": false,
   "isInternetEnabled": false,
   "language": "python",
   "sourceType": "notebook"
  },
  "kernelspec": {
   "display_name": "Python 3",
   "language": "python",
   "name": "python3"
  },
  "language_info": {
   "codemirror_mode": {
    "name": "ipython",
    "version": 3
   },
   "file_extension": ".py",
   "mimetype": "text/x-python",
   "name": "python",
   "nbconvert_exporter": "python",
   "pygments_lexer": "ipython3",
   "version": "3.10.12"
  },
  "papermill": {
   "default_parameters": {},
   "duration": 4.613023,
   "end_time": "2025-03-04T11:10:26.433066",
   "environment_variables": {},
   "exception": null,
   "input_path": "__notebook__.ipynb",
   "output_path": "__notebook__.ipynb",
   "parameters": {},
   "start_time": "2025-03-04T11:10:21.820043",
   "version": "2.6.0"
  }
 },
 "nbformat": 4,
 "nbformat_minor": 5
}
