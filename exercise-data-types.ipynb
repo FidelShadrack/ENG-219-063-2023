{
 "cells": [
  {
   "cell_type": "markdown",
   "id": "d12d2067",
   "metadata": {
    "papermill": {
     "duration": 0.006176,
     "end_time": "2025-03-04T11:13:39.534818",
     "exception": false,
     "start_time": "2025-03-04T11:13:39.528642",
     "status": "completed"
    },
    "tags": []
   },
   "source": [
    "**This notebook is an exercise in the [Intro to Programming](https://www.kaggle.com/learn/intro-to-programming) course.  You can reference the tutorial at [this link](https://www.kaggle.com/alexisbcook/data-types).**\n",
    "\n",
    "---\n"
   ]
  },
  {
   "cell_type": "markdown",
   "id": "2773f3ea",
   "metadata": {
    "papermill": {
     "duration": 0.00512,
     "end_time": "2025-03-04T11:13:39.545553",
     "exception": false,
     "start_time": "2025-03-04T11:13:39.540433",
     "status": "completed"
    },
    "tags": []
   },
   "source": [
    "In the tutorial, you learned about four different data types: floats, integers, strings, and booleans.  In this exercise, you'll experiment with them.\n",
    "\n",
    "# Set up the notebook\n",
    "\n",
    "Run the next code cell without changes to set up the notebook."
   ]
  },
  {
   "cell_type": "code",
   "execution_count": 1,
   "id": "78010782",
   "metadata": {
    "execution": {
     "iopub.execute_input": "2025-03-04T11:13:39.557460Z",
     "iopub.status.busy": "2025-03-04T11:13:39.557100Z",
     "iopub.status.idle": "2025-03-04T11:13:40.677839Z",
     "shell.execute_reply": "2025-03-04T11:13:40.676425Z"
    },
    "papermill": {
     "duration": 1.129272,
     "end_time": "2025-03-04T11:13:40.680106",
     "exception": false,
     "start_time": "2025-03-04T11:13:39.550834",
     "status": "completed"
    },
    "tags": []
   },
   "outputs": [
    {
     "name": "stdout",
     "output_type": "stream",
     "text": [
      "Setup complete.\n"
     ]
    }
   ],
   "source": [
    "# Set up the exercise\n",
    "from learntools.core import binder\n",
    "binder.bind(globals())\n",
    "from learntools.intro_to_programming.ex3 import *\n",
    "print('Setup complete.')"
   ]
  },
  {
   "cell_type": "markdown",
   "id": "3acee04e",
   "metadata": {
    "papermill": {
     "duration": 0.005173,
     "end_time": "2025-03-04T11:13:40.691073",
     "exception": false,
     "start_time": "2025-03-04T11:13:40.685900",
     "status": "completed"
    },
    "tags": []
   },
   "source": [
    "# Question 1\n",
    "\n",
    "You have seen how to convert a float to an integer with the `int` function.  Try this out yourself by running the code cell below."
   ]
  },
  {
   "cell_type": "code",
   "execution_count": 2,
   "id": "4a761ea6",
   "metadata": {
    "execution": {
     "iopub.execute_input": "2025-03-04T11:13:40.703237Z",
     "iopub.status.busy": "2025-03-04T11:13:40.702692Z",
     "iopub.status.idle": "2025-03-04T11:13:40.709249Z",
     "shell.execute_reply": "2025-03-04T11:13:40.708175Z"
    },
    "papermill": {
     "duration": 0.014626,
     "end_time": "2025-03-04T11:13:40.710989",
     "exception": false,
     "start_time": "2025-03-04T11:13:40.696363",
     "status": "completed"
    },
    "tags": []
   },
   "outputs": [
    {
     "name": "stdout",
     "output_type": "stream",
     "text": [
      "1.0\n",
      "<class 'float'>\n",
      "1\n",
      "<class 'int'>\n"
     ]
    }
   ],
   "source": [
    "# Define a float\n",
    "y = 1.\n",
    "print(y)\n",
    "print(type(y))\n",
    "\n",
    "# Convert float to integer with the int function\n",
    "z = int(y)\n",
    "print(z)\n",
    "print(type(z))"
   ]
  },
  {
   "cell_type": "markdown",
   "id": "3afe7222",
   "metadata": {
    "papermill": {
     "duration": 0.005225,
     "end_time": "2025-03-04T11:13:40.721790",
     "exception": false,
     "start_time": "2025-03-04T11:13:40.716565",
     "status": "completed"
    },
    "tags": []
   },
   "source": [
    "In this case, the float you are using has no numbers after the decimal.  \n",
    "- But what happens when you try to convert a float with a fractional part to an integer?  \n",
    "- How does the outcome of the `int` function change for positive and negative numbers?\n",
    "\n",
    "Use the next code cell to investigate and answer these questions.  Feel free to add or remove any lines of code -- it is your workspace!"
   ]
  },
  {
   "cell_type": "code",
   "execution_count": 3,
   "id": "718f8813",
   "metadata": {
    "execution": {
     "iopub.execute_input": "2025-03-04T11:13:40.734362Z",
     "iopub.status.busy": "2025-03-04T11:13:40.733941Z",
     "iopub.status.idle": "2025-03-04T11:13:40.740166Z",
     "shell.execute_reply": "2025-03-04T11:13:40.739044Z"
    },
    "papermill": {
     "duration": 0.014208,
     "end_time": "2025-03-04T11:13:40.741748",
     "exception": false,
     "start_time": "2025-03-04T11:13:40.727540",
     "status": "completed"
    },
    "tags": []
   },
   "outputs": [
    {
     "name": "stdout",
     "output_type": "stream",
     "text": [
      "1\n",
      "1\n",
      "-3\n",
      "-2\n"
     ]
    }
   ],
   "source": [
    "# Uncomment and run this code to get started!\n",
    "print(int(1.2321))\n",
    "print(int(1.747))\n",
    "print(int(-3.94535))\n",
    "print(int(-2.19774))"
   ]
  },
  {
   "cell_type": "markdown",
   "id": "177538d2",
   "metadata": {
    "papermill": {
     "duration": 0.005292,
     "end_time": "2025-03-04T11:13:40.752638",
     "exception": false,
     "start_time": "2025-03-04T11:13:40.747346",
     "status": "completed"
    },
    "tags": []
   },
   "source": [
    "Once you have an answer, run the code cell below to see the solution.  Viewing the solution will give you credit for answering the problem."
   ]
  },
  {
   "cell_type": "code",
   "execution_count": 4,
   "id": "44a35aad",
   "metadata": {
    "execution": {
     "iopub.execute_input": "2025-03-04T11:13:40.765112Z",
     "iopub.status.busy": "2025-03-04T11:13:40.764698Z",
     "iopub.status.idle": "2025-03-04T11:13:40.772981Z",
     "shell.execute_reply": "2025-03-04T11:13:40.771864Z"
    },
    "papermill": {
     "duration": 0.016442,
     "end_time": "2025-03-04T11:13:40.774599",
     "exception": false,
     "start_time": "2025-03-04T11:13:40.758157",
     "status": "completed"
    },
    "tags": []
   },
   "outputs": [
    {
     "data": {
      "application/javascript": [
       "parent.postMessage({\"jupyterEvent\": \"custom.exercise_interaction\", \"data\": {\"outcomeType\": 1, \"valueTowardsCompletion\": 0.2, \"interactionType\": 1, \"questionType\": 4, \"questionId\": \"1_FloatToInt\", \"learnToolsVersion\": \"0.3.4\", \"failureMessage\": \"\", \"exceptionClass\": \"\", \"trace\": \"\"}}, \"*\")"
      ],
      "text/plain": [
       "<IPython.core.display.Javascript object>"
      ]
     },
     "metadata": {},
     "output_type": "display_data"
    },
    {
     "data": {
      "text/markdown": [
       "<span style=\"color:#33cc33\">Correct:</span> \n",
       "\n",
       "Negative floats are always rounded UP to the closest integer (for instance, both -1.1 and -1.9 are rounded up to -1). Positive floats are always rounded DOWN to the closest integer (for instance, 2.1 and 2.9 are rounded down to 2)."
      ],
      "text/plain": [
       "Correct: \n",
       "\n",
       "Negative floats are always rounded UP to the closest integer (for instance, both -1.1 and -1.9 are rounded up to -1). Positive floats are always rounded DOWN to the closest integer (for instance, 2.1 and 2.9 are rounded down to 2)."
      ]
     },
     "metadata": {},
     "output_type": "display_data"
    }
   ],
   "source": [
    "# Check your answer (Run this code cell to receive credit!)\n",
    "q1.check()"
   ]
  },
  {
   "cell_type": "markdown",
   "id": "d1d1b23f",
   "metadata": {
    "papermill": {
     "duration": 0.005572,
     "end_time": "2025-03-04T11:13:40.786307",
     "exception": false,
     "start_time": "2025-03-04T11:13:40.780735",
     "status": "completed"
    },
    "tags": []
   },
   "source": [
    "# Question 2\n",
    "\n",
    "In the tutorial, you learned about booleans (which can take a value of `True` or `False`), in addition to integers, floats, and strings.  For this question, your goal is to determine what happens when you multiply a boolean by any of these data types.  Specifically, \n",
    "- What happens when you multiply an integer or float by `True`?  What happens when you multiply them by `False`?  How does the answer change if the numbers are positive or negative?\n",
    "- What happens when you multiply a string by `True`?  By `False`?\n",
    "\n",
    "Use the next code cell for your investigation. "
   ]
  },
  {
   "cell_type": "code",
   "execution_count": 5,
   "id": "af7b14de",
   "metadata": {
    "execution": {
     "iopub.execute_input": "2025-03-04T11:13:40.799031Z",
     "iopub.status.busy": "2025-03-04T11:13:40.798609Z",
     "iopub.status.idle": "2025-03-04T11:13:40.805062Z",
     "shell.execute_reply": "2025-03-04T11:13:40.804031Z"
    },
    "papermill": {
     "duration": 0.015024,
     "end_time": "2025-03-04T11:13:40.807094",
     "exception": false,
     "start_time": "2025-03-04T11:13:40.792070",
     "status": "completed"
    },
    "tags": []
   },
   "outputs": [
    {
     "name": "stdout",
     "output_type": "stream",
     "text": [
      "3\n",
      "-3.1\n",
      "<class 'str'>\n",
      "0\n"
     ]
    }
   ],
   "source": [
    "# Uncomment and run this code to get started!\n",
    "print(3 * True)\n",
    "print(-3.1 * True)\n",
    "print(type(\"abc\" * False))\n",
    "print(len(\"abc\" * False))"
   ]
  },
  {
   "cell_type": "markdown",
   "id": "9ea52cfb",
   "metadata": {
    "papermill": {
     "duration": 0.005566,
     "end_time": "2025-03-04T11:13:40.818928",
     "exception": false,
     "start_time": "2025-03-04T11:13:40.813362",
     "status": "completed"
    },
    "tags": []
   },
   "source": [
    "Once you have an answer, run the code cell below to see the solution.  Viewing the solution will give you credit for answering the problem."
   ]
  },
  {
   "cell_type": "code",
   "execution_count": 6,
   "id": "9d17244b",
   "metadata": {
    "execution": {
     "iopub.execute_input": "2025-03-04T11:13:40.833051Z",
     "iopub.status.busy": "2025-03-04T11:13:40.832622Z",
     "iopub.status.idle": "2025-03-04T11:13:40.840343Z",
     "shell.execute_reply": "2025-03-04T11:13:40.839315Z"
    },
    "papermill": {
     "duration": 0.016659,
     "end_time": "2025-03-04T11:13:40.841989",
     "exception": false,
     "start_time": "2025-03-04T11:13:40.825330",
     "status": "completed"
    },
    "tags": []
   },
   "outputs": [
    {
     "data": {
      "application/javascript": [
       "parent.postMessage({\"jupyterEvent\": \"custom.exercise_interaction\", \"data\": {\"outcomeType\": 1, \"valueTowardsCompletion\": 0.2, \"interactionType\": 1, \"questionType\": 4, \"questionId\": \"2_MultiplyBooleans\", \"learnToolsVersion\": \"0.3.4\", \"failureMessage\": \"\", \"exceptionClass\": \"\", \"trace\": \"\"}}, \"*\")"
      ],
      "text/plain": [
       "<IPython.core.display.Javascript object>"
      ]
     },
     "metadata": {},
     "output_type": "display_data"
    },
    {
     "data": {
      "text/markdown": [
       "<span style=\"color:#33cc33\">Correct:</span> \n",
       "\n",
       "When you multiple an integer or float by a boolean with value `True`, it just returns that same integer or float (and is equivalent to multiplying by 1).  If you multiply an integer or float by a boolean with value `False`, it always returns 0.  This is true for both positive and negative numbers.  If you multiply a string by a boolean with value `True`, it just returns that same string.  And if you multiply a string by a boolean with value `False`, it returns an empty string (or a string with length zero)."
      ],
      "text/plain": [
       "Correct: \n",
       "\n",
       "When you multiple an integer or float by a boolean with value `True`, it just returns that same integer or float (and is equivalent to multiplying by 1).  If you multiply an integer or float by a boolean with value `False`, it always returns 0.  This is true for both positive and negative numbers.  If you multiply a string by a boolean with value `True`, it just returns that same string.  And if you multiply a string by a boolean with value `False`, it returns an empty string (or a string with length zero)."
      ]
     },
     "metadata": {},
     "output_type": "display_data"
    }
   ],
   "source": [
    "# Check your answer (Run this code cell to receive credit!)\n",
    "q2.check()"
   ]
  },
  {
   "cell_type": "markdown",
   "id": "e2846d58",
   "metadata": {
    "papermill": {
     "duration": 0.005812,
     "end_time": "2025-03-04T11:13:40.854154",
     "exception": false,
     "start_time": "2025-03-04T11:13:40.848342",
     "status": "completed"
    },
    "tags": []
   },
   "source": [
    "# Question 3\n",
    "\n",
    "In this question, you will build off your work from the previous exercise to write a function that estimates the value of a house.\n",
    "\n",
    "Use the next code cell to create a function `get_expected_cost` that takes as input three variables:\n",
    "- `beds` - number of bedrooms (data type float)\n",
    "- `baths` - number of bathrooms (data type float)\n",
    "- `has_basement` - whether or not the house has a basement (data type boolean)\n",
    "\n",
    "It should return the expected cost of a house with those characteristics. Assume that:\n",
    "- the expected cost for a house with 0 bedrooms and 0 bathrooms, and no basement is 80000, \n",
    "- each bedroom adds 30000 to the expected cost,\n",
    "- each bathroom adds 10000 to the expected cost, and\n",
    "- a basement adds 40000 to the expected cost.\n",
    "\n",
    "For instance,\n",
    "- a house with 1 bedroom, 1 bathroom, and no basement has an expected cost of 80000 + 30000 + 10000 = 120000.  This value will be calculated with `get_expected_cost(1, 1, False)`.\n",
    "- a house with 2 bedrooms, 1 bathroom, and a basement has an expected cost of 80000 + 2*30000 + 10000 + 40000 = 190000.  This value will be calculated with `get_expected_cost(2, 1, True)`.\n",
    "\n",
    "Remember you can always get a hint by uncommenting `q3.hint()` in the code cell following the next!"
   ]
  },
  {
   "cell_type": "code",
   "execution_count": 7,
   "id": "c3cc2cdd",
   "metadata": {
    "execution": {
     "iopub.execute_input": "2025-03-04T11:13:40.867542Z",
     "iopub.status.busy": "2025-03-04T11:13:40.867109Z",
     "iopub.status.idle": "2025-03-04T11:13:40.875510Z",
     "shell.execute_reply": "2025-03-04T11:13:40.874244Z"
    },
    "papermill": {
     "duration": 0.016974,
     "end_time": "2025-03-04T11:13:40.877163",
     "exception": false,
     "start_time": "2025-03-04T11:13:40.860189",
     "status": "completed"
    },
    "tags": []
   },
   "outputs": [
    {
     "data": {
      "application/javascript": [
       "parent.postMessage({\"jupyterEvent\": \"custom.exercise_interaction\", \"data\": {\"outcomeType\": 1, \"valueTowardsCompletion\": 0.2, \"interactionType\": 1, \"questionType\": 2, \"questionId\": \"3_EstimateHouseValueBool\", \"learnToolsVersion\": \"0.3.4\", \"failureMessage\": \"\", \"exceptionClass\": \"\", \"trace\": \"\"}}, \"*\")"
      ],
      "text/plain": [
       "<IPython.core.display.Javascript object>"
      ]
     },
     "metadata": {},
     "output_type": "display_data"
    },
    {
     "data": {
      "text/markdown": [
       "<span style=\"color:#33cc33\">Correct</span>"
      ],
      "text/plain": [
       "Correct"
      ]
     },
     "metadata": {},
     "output_type": "display_data"
    }
   ],
   "source": [
    "# TODO: Complete the function\n",
    "def get_expected_cost(beds, baths, has_basement):\n",
    "    value =80000 + beds*30000 + baths*10000 + 40000*has_basement\n",
    "    return value\n",
    "\n",
    "# Check your answer \n",
    "q3.check()"
   ]
  },
  {
   "cell_type": "code",
   "execution_count": 8,
   "id": "f2bb3cdc",
   "metadata": {
    "execution": {
     "iopub.execute_input": "2025-03-04T11:13:40.892929Z",
     "iopub.status.busy": "2025-03-04T11:13:40.892525Z",
     "iopub.status.idle": "2025-03-04T11:13:40.897010Z",
     "shell.execute_reply": "2025-03-04T11:13:40.895814Z"
    },
    "papermill": {
     "duration": 0.014885,
     "end_time": "2025-03-04T11:13:40.898720",
     "exception": false,
     "start_time": "2025-03-04T11:13:40.883835",
     "status": "completed"
    },
    "tags": []
   },
   "outputs": [],
   "source": [
    "# Uncomment to see a hint\n",
    "#q3.hint()\n",
    "\n",
    "# Uncomment to view the solution\n",
    "#q3.solution()"
   ]
  },
  {
   "cell_type": "markdown",
   "id": "3c924756",
   "metadata": {
    "papermill": {
     "duration": 0.006077,
     "end_time": "2025-03-04T11:13:40.911486",
     "exception": false,
     "start_time": "2025-03-04T11:13:40.905409",
     "status": "completed"
    },
    "tags": []
   },
   "source": [
    "# Question 4\n",
    "\n",
    "We'll continue our study of boolean arithmetic.  For this question, your task is to provide a description of what happpens when you add booleans. \n",
    "\n",
    "Use the next code cell for your investigation.  Feel free to add or remove any lines of code - use it as your workspace!"
   ]
  },
  {
   "cell_type": "code",
   "execution_count": 9,
   "id": "8e21701d",
   "metadata": {
    "execution": {
     "iopub.execute_input": "2025-03-04T11:13:40.926335Z",
     "iopub.status.busy": "2025-03-04T11:13:40.925905Z",
     "iopub.status.idle": "2025-03-04T11:13:40.932882Z",
     "shell.execute_reply": "2025-03-04T11:13:40.931611Z"
    },
    "papermill": {
     "duration": 0.016423,
     "end_time": "2025-03-04T11:13:40.934828",
     "exception": false,
     "start_time": "2025-03-04T11:13:40.918405",
     "status": "completed"
    },
    "tags": []
   },
   "outputs": [
    {
     "name": "stdout",
     "output_type": "stream",
     "text": [
      "0\n",
      "1\n",
      "1\n",
      "2\n",
      "3\n"
     ]
    }
   ],
   "source": [
    "print(False + False)\n",
    "print(True + False)\n",
    "print(False + True)\n",
    "print(True + True)\n",
    "print(False + True + True + True)"
   ]
  },
  {
   "cell_type": "markdown",
   "id": "2ffa3345",
   "metadata": {
    "papermill": {
     "duration": 0.006633,
     "end_time": "2025-03-04T11:13:40.948336",
     "exception": false,
     "start_time": "2025-03-04T11:13:40.941703",
     "status": "completed"
    },
    "tags": []
   },
   "source": [
    "Once you have an answer, run the code cell below to see the solution.  Viewing the solution will give you credit for answering the problem."
   ]
  },
  {
   "cell_type": "code",
   "execution_count": 10,
   "id": "1e739363",
   "metadata": {
    "execution": {
     "iopub.execute_input": "2025-03-04T11:13:40.962662Z",
     "iopub.status.busy": "2025-03-04T11:13:40.962283Z",
     "iopub.status.idle": "2025-03-04T11:13:40.970300Z",
     "shell.execute_reply": "2025-03-04T11:13:40.969203Z"
    },
    "papermill": {
     "duration": 0.017208,
     "end_time": "2025-03-04T11:13:40.972131",
     "exception": false,
     "start_time": "2025-03-04T11:13:40.954923",
     "status": "completed"
    },
    "tags": []
   },
   "outputs": [
    {
     "data": {
      "application/javascript": [
       "parent.postMessage({\"jupyterEvent\": \"custom.exercise_interaction\", \"data\": {\"outcomeType\": 1, \"valueTowardsCompletion\": 0.2, \"interactionType\": 1, \"questionType\": 4, \"questionId\": \"4_AddingBooleans\", \"learnToolsVersion\": \"0.3.4\", \"failureMessage\": \"\", \"exceptionClass\": \"\", \"trace\": \"\"}}, \"*\")"
      ],
      "text/plain": [
       "<IPython.core.display.Javascript object>"
      ]
     },
     "metadata": {},
     "output_type": "display_data"
    },
    {
     "data": {
      "text/markdown": [
       "<span style=\"color:#33cc33\">Correct:</span> \n",
       "\n",
       "When you add booleans, adding `False` is equivalent to adding 0, and adding `True` is equivalent to adding 1."
      ],
      "text/plain": [
       "Correct: \n",
       "\n",
       "When you add booleans, adding `False` is equivalent to adding 0, and adding `True` is equivalent to adding 1."
      ]
     },
     "metadata": {},
     "output_type": "display_data"
    }
   ],
   "source": [
    "# Check your answer (Run this code cell to receive credit!)\n",
    "q4.check()"
   ]
  },
  {
   "cell_type": "markdown",
   "id": "322c370c",
   "metadata": {
    "papermill": {
     "duration": 0.006939,
     "end_time": "2025-03-04T11:13:40.986173",
     "exception": false,
     "start_time": "2025-03-04T11:13:40.979234",
     "status": "completed"
    },
    "tags": []
   },
   "source": [
    "# 🌶️ Question 5\n",
    "\n",
    "You own an online shop where you sell rings with custom engravings.  You offer both gold plated and solid gold rings.\n",
    "- Gold plated rings have a base cost of \\\\$50, and you charge \\\\$7 per engraved unit.  \n",
    "- Solid gold rings have a base cost of \\\\$100, and you charge \\\\$10 per engraved unit.\n",
    "- Spaces and punctuation are counted as engraved units.\n",
    "\n",
    "Write a function `cost_of_project()` that takes two arguments:\n",
    "- `engraving` - a Python string with the text of the engraving\n",
    "- `solid_gold` - a Boolean that indicates whether the ring is solid gold\n",
    "\n",
    "It should return the cost of the project.  This question should be fairly challenging, and you may need a hint."
   ]
  },
  {
   "cell_type": "code",
   "execution_count": 11,
   "id": "42bd077b",
   "metadata": {
    "execution": {
     "iopub.execute_input": "2025-03-04T11:13:41.001520Z",
     "iopub.status.busy": "2025-03-04T11:13:41.001171Z",
     "iopub.status.idle": "2025-03-04T11:13:41.009331Z",
     "shell.execute_reply": "2025-03-04T11:13:41.008306Z"
    },
    "papermill": {
     "duration": 0.017656,
     "end_time": "2025-03-04T11:13:41.011101",
     "exception": false,
     "start_time": "2025-03-04T11:13:40.993445",
     "status": "completed"
    },
    "tags": []
   },
   "outputs": [
    {
     "data": {
      "application/javascript": [
       "parent.postMessage({\"jupyterEvent\": \"custom.exercise_interaction\", \"data\": {\"outcomeType\": 1, \"valueTowardsCompletion\": 0.2, \"interactionType\": 1, \"questionType\": 2, \"questionId\": \"5_CustomEngravings\", \"learnToolsVersion\": \"0.3.4\", \"failureMessage\": \"\", \"exceptionClass\": \"\", \"trace\": \"\"}}, \"*\")"
      ],
      "text/plain": [
       "<IPython.core.display.Javascript object>"
      ]
     },
     "metadata": {},
     "output_type": "display_data"
    },
    {
     "data": {
      "text/markdown": [
       "<span style=\"color:#33cc33\">Correct</span>"
      ],
      "text/plain": [
       "Correct"
      ]
     },
     "metadata": {},
     "output_type": "display_data"
    }
   ],
   "source": [
    "def cost_of_project(engraving, solid_gold):\n",
    "    cost = (solid_gold)*(100+10* len(engraving))+(not solid_gold)*(50+7* len(engraving))\n",
    "    return cost\n",
    "\n",
    "# Check your answer\n",
    "q5.check()"
   ]
  },
  {
   "cell_type": "code",
   "execution_count": 12,
   "id": "76065a9a",
   "metadata": {
    "execution": {
     "iopub.execute_input": "2025-03-04T11:13:41.026183Z",
     "iopub.status.busy": "2025-03-04T11:13:41.025801Z",
     "iopub.status.idle": "2025-03-04T11:13:41.029538Z",
     "shell.execute_reply": "2025-03-04T11:13:41.028580Z"
    },
    "papermill": {
     "duration": 0.013163,
     "end_time": "2025-03-04T11:13:41.031329",
     "exception": false,
     "start_time": "2025-03-04T11:13:41.018166",
     "status": "completed"
    },
    "tags": []
   },
   "outputs": [],
   "source": [
    "# Uncomment to see a hint\n",
    "#q5.hint()\n",
    "\n",
    "# Uncomment to view the solution\n",
    "#q5.solution()"
   ]
  },
  {
   "cell_type": "markdown",
   "id": "e603bf4d",
   "metadata": {
    "papermill": {
     "duration": 0.006448,
     "end_time": "2025-03-04T11:13:41.044610",
     "exception": false,
     "start_time": "2025-03-04T11:13:41.038162",
     "status": "completed"
    },
    "tags": []
   },
   "source": [
    "Run the next code cell to calculate the cost of engraving `Charlie+Denver` on a solid gold ring."
   ]
  },
  {
   "cell_type": "code",
   "execution_count": 13,
   "id": "5bb66745",
   "metadata": {
    "execution": {
     "iopub.execute_input": "2025-03-04T11:13:41.059189Z",
     "iopub.status.busy": "2025-03-04T11:13:41.058761Z",
     "iopub.status.idle": "2025-03-04T11:13:41.063556Z",
     "shell.execute_reply": "2025-03-04T11:13:41.062386Z"
    },
    "papermill": {
     "duration": 0.013984,
     "end_time": "2025-03-04T11:13:41.065167",
     "exception": false,
     "start_time": "2025-03-04T11:13:41.051183",
     "status": "completed"
    },
    "tags": []
   },
   "outputs": [
    {
     "name": "stdout",
     "output_type": "stream",
     "text": [
      "240\n"
     ]
    }
   ],
   "source": [
    "project_one = cost_of_project(\"Charlie+Denver\", True)\n",
    "print(project_one)"
   ]
  },
  {
   "cell_type": "markdown",
   "id": "c607fbe3",
   "metadata": {
    "papermill": {
     "duration": 0.006333,
     "end_time": "2025-03-04T11:13:41.078553",
     "exception": false,
     "start_time": "2025-03-04T11:13:41.072220",
     "status": "completed"
    },
    "tags": []
   },
   "source": [
    "Use the next code cell to calculate the cost of engraving `08/10/2000` on a gold plated ring."
   ]
  },
  {
   "cell_type": "code",
   "execution_count": 14,
   "id": "b5556c1e",
   "metadata": {
    "execution": {
     "iopub.execute_input": "2025-03-04T11:13:41.093286Z",
     "iopub.status.busy": "2025-03-04T11:13:41.092894Z",
     "iopub.status.idle": "2025-03-04T11:13:41.098086Z",
     "shell.execute_reply": "2025-03-04T11:13:41.096907Z"
    },
    "papermill": {
     "duration": 0.01452,
     "end_time": "2025-03-04T11:13:41.099706",
     "exception": false,
     "start_time": "2025-03-04T11:13:41.085186",
     "status": "completed"
    },
    "tags": []
   },
   "outputs": [
    {
     "name": "stdout",
     "output_type": "stream",
     "text": [
      "120\n"
     ]
    }
   ],
   "source": [
    "project_two = cost_of_project(\"08/10/2000\", False)\n",
    "print(project_two)"
   ]
  },
  {
   "cell_type": "markdown",
   "id": "9479986b",
   "metadata": {
    "papermill": {
     "duration": 0.006356,
     "end_time": "2025-03-04T11:13:41.113424",
     "exception": false,
     "start_time": "2025-03-04T11:13:41.107068",
     "status": "completed"
    },
    "tags": []
   },
   "source": [
    "# Keep going\n",
    "\n",
    "Continue to the next lesson to **[learn about conditions and conditional statements](https://www.kaggle.com/alexisbcook/conditions-and-conditional-statements)**."
   ]
  },
  {
   "cell_type": "markdown",
   "id": "377035d0",
   "metadata": {
    "papermill": {
     "duration": 0.006902,
     "end_time": "2025-03-04T11:13:41.127040",
     "exception": false,
     "start_time": "2025-03-04T11:13:41.120138",
     "status": "completed"
    },
    "tags": []
   },
   "source": [
    "---\n",
    "\n",
    "\n",
    "\n",
    "\n",
    "*Have questions or comments? Visit the [course discussion forum](https://www.kaggle.com/learn/intro-to-programming/discussion) to chat with other learners.*"
   ]
  }
 ],
 "metadata": {
  "kaggle": {
   "accelerator": "none",
   "dataSources": [],
   "isGpuEnabled": false,
   "isInternetEnabled": false,
   "language": "python",
   "sourceType": "notebook"
  },
  "kernelspec": {
   "display_name": "Python 3",
   "language": "python",
   "name": "python3"
  },
  "language_info": {
   "codemirror_mode": {
    "name": "ipython",
    "version": 3
   },
   "file_extension": ".py",
   "mimetype": "text/x-python",
   "name": "python",
   "nbconvert_exporter": "python",
   "pygments_lexer": "ipython3",
   "version": "3.10.12"
  },
  "papermill": {
   "default_parameters": {},
   "duration": 5.159421,
   "end_time": "2025-03-04T11:13:41.754453",
   "environment_variables": {},
   "exception": null,
   "input_path": "__notebook__.ipynb",
   "output_path": "__notebook__.ipynb",
   "parameters": {},
   "start_time": "2025-03-04T11:13:36.595032",
   "version": "2.3.3"
  }
 },
 "nbformat": 4,
 "nbformat_minor": 5
}
